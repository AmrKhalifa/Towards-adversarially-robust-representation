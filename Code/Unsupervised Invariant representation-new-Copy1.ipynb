{
 "cells": [
  {
   "cell_type": "code",
   "execution_count": 1,
   "metadata": {},
   "outputs": [],
   "source": [
    "import torch\n",
    "import torch.nn as nn\n",
    "from utils import data_loader\n",
    "from utils.viewer import show_batch\n",
    "import time\n",
    "from mnist_classifier import test_model\n",
    "from multiple_attacks import *\n",
    "import numpy as np"
   ]
  },
  {
   "cell_type": "code",
   "execution_count": 2,
   "metadata": {},
   "outputs": [],
   "source": [
    "use_cuda = True\n",
    "device = torch.device(\"cuda\" if (use_cuda and torch.cuda.is_available()) else \"cpu\")"
   ]
  },
  {
   "cell_type": "code",
   "execution_count": 3,
   "metadata": {},
   "outputs": [],
   "source": [
    "train_set, test_set = data_loader.get_data()"
   ]
  },
  {
   "cell_type": "code",
   "execution_count": 4,
   "metadata": {},
   "outputs": [],
   "source": [
    "class VFAE_CONV_NeuralModel(nn.Module):\n",
    "    def __init__(self):\n",
    "        super().__init__()\n",
    "\n",
    "        self.encoder = nn.Sequential(\n",
    "\n",
    "            nn.Conv2d(1, 16, kernel_size=3, stride=1, padding=1),\n",
    "            nn.BatchNorm2d(16),\n",
    "            nn.ReLU(inplace=True),\n",
    "\n",
    "            nn.Conv2d(16, 32, kernel_size=3, stride=2, padding=1),\n",
    "            nn.BatchNorm2d(32),\n",
    "            nn.ReLU(inplace=True),\n",
    "\n",
    "            nn.Conv2d(32, 64, kernel_size=3, stride=1, padding=1),\n",
    "            nn.BatchNorm2d(64),\n",
    "            nn.ReLU(inplace=True),\n",
    "\n",
    "            nn.Conv2d(64, 16, kernel_size=3, stride=2, padding=1),\n",
    "            nn.BatchNorm2d(16),\n",
    "            nn.ReLU(inplace=True)\n",
    "\n",
    "        )\n",
    "\n",
    "        self.fc = nn.Sequential(\n",
    "            nn.Linear(7 * 7 * 16, 50),\n",
    "            nn.BatchNorm1d(50),\n",
    "            nn.ReLU(inplace=True)\n",
    "        )\n",
    "\n",
    "        self.fc_mu = nn.Linear(50, 50)\n",
    "        self.fc_log_var = nn.Linear(50, 50)\n",
    "\n",
    "        # Sampling vector\n",
    "        self.latent = nn.Sequential(\n",
    "\n",
    "            nn.Linear(50, 50),\n",
    "            nn.BatchNorm1d(50),\n",
    "            nn.ReLU(inplace=True),\n",
    "\n",
    "            nn.Linear(50, 7 * 7 * 16),\n",
    "            nn.BatchNorm1d(7 * 7 * 16),\n",
    "            nn.ReLU(inplace=True)\n",
    "\n",
    "        )\n",
    "\n",
    "        self.decoder = nn.Sequential(\n",
    "            nn.ConvTranspose2d(16, 64, kernel_size=3, stride=2, padding=1, output_padding=1),\n",
    "            nn.BatchNorm2d(64),\n",
    "            nn.ReLU(inplace=True),\n",
    "\n",
    "            nn.ConvTranspose2d(64, 32, kernel_size=3, stride=1, padding=1),\n",
    "            nn.BatchNorm2d(32),\n",
    "            nn.ReLU(inplace=True),\n",
    "\n",
    "            nn.ConvTranspose2d(32, 16, kernel_size=3, stride=2, padding=1, output_padding=1),\n",
    "            nn.BatchNorm2d(16),\n",
    "            nn.ReLU(inplace=True),\n",
    "\n",
    "            nn.ConvTranspose2d(16, 1, kernel_size=3, stride=1, padding=1),\n",
    "            nn.Sigmoid()\n",
    "\n",
    "        )\n",
    "\n",
    "    def reparameterize(self, mean, log_var):\n",
    "        if self.training:\n",
    "            std = log_var.mul(0.5).exp_()\n",
    "            eps = std.data.new(std.size()).normal_()\n",
    "            return eps.mul(std).add_(mean)\n",
    "        else:\n",
    "            return mean\n",
    "\n",
    "    def forward(self, x):\n",
    "        z, mu, log_var = self.get_latent(x)\n",
    "        feature_map_latent = z.view(-1, 16, 7, 7)\n",
    "\n",
    "        decoded = self.decoder(feature_map_latent)\n",
    "        output = decoded.view(-1, 1, 28, 28)\n",
    "\n",
    "        return output, mu, log_var\n",
    "    \n",
    "    def get_latent(self, x):\n",
    "        encoded = self.encoder(x)\n",
    "\n",
    "        encoded = encoded.view(-1, 7 * 7 * 16)\n",
    "\n",
    "        fc = self.fc(encoded)\n",
    "\n",
    "        mu = self.fc_mu(fc)\n",
    "        log_var = self.fc_log_var(fc)\n",
    "\n",
    "        z = self.reparameterize(mu, log_var)\n",
    "        latent = self.latent(z)\n",
    "        \n",
    "        return latent, mu, log_var\n",
    "        \n",
    "        "
   ]
  },
  {
   "cell_type": "code",
   "execution_count": null,
   "metadata": {},
   "outputs": [],
   "source": [
    "batch_size = 256\n",
    "train_loader = torch.utils.data.DataLoader(train_set, batch_size=batch_size)\n",
    "\n",
    "test_loader = torch.utils.data.DataLoader(test_set, batch_size=batch_size)\n",
    "\n",
    "# vae = VAE_FC_NeuralModel()\n",
    "\n",
    "def VAELoss(x_hat, x, mu, logvar, a, b):\n",
    "    BCE = nn.functional.binary_cross_entropy(\n",
    "        x_hat, x.view(-1, 784), reduction='sum'\n",
    "    )\n",
    "    KLD = -0.5 * torch.sum(1 + logvar - mu.pow(2) - logvar.exp())\n",
    "\n",
    "    return a*BCE + b*KLD"
   ]
  },
  {
   "cell_type": "code",
   "execution_count": null,
   "metadata": {},
   "outputs": [],
   "source": [
    "b_size = 256\n",
    "def MMD_Loss(x, y):\n",
    "    \n",
    "    alpha =1\n",
    "    B=b_size\n",
    "\n",
    "    x = x.view(x.size(0), x.size(1) * 1)\n",
    "    y = y.view(y.size(0), y.size(1) * 1)\n",
    "\n",
    "    xx, yy, zz = torch.mm(x,x.t()), torch.mm(y,y.t()), torch.mm(x,y.t())\n",
    "\n",
    "    rx = (xx.diag().unsqueeze(0).expand_as(xx))\n",
    "    ry = (yy.diag().unsqueeze(0).expand_as(yy))\n",
    "\n",
    "    K = torch.exp(- alpha * (rx.t() + rx - 2*xx))\n",
    "    L = torch.exp(- alpha * (ry.t() + ry - 2*yy))\n",
    "    P = torch.exp(- alpha * (rx.t() + ry - 2*zz))\n",
    "\n",
    "    beta = (1./(B*(B-1)))\n",
    "    gamma = (2./(B*B)) \n",
    "\n",
    "    return beta * (torch.sum(K)+torch.sum(L)) - gamma * torch.sum(P)"
   ]
  },
  {
   "cell_type": "code",
   "execution_count": null,
   "metadata": {},
   "outputs": [],
   "source": [
    "def train_vae(model, train_data,a, b, adv_examples = False):\n",
    "    learning_rate = 0.01\n",
    "    optimizer = torch.optim.Adam(model.parameters(), lr=learning_rate)\n",
    "\n",
    "    model.train()\n",
    "    model.to(device)\n",
    "    if adv_examples is True: \n",
    "    # invariant representation training\n",
    "        for train in train_data:\n",
    "            for batch in train:\n",
    "                batch_images, adv_images, batch_labels = batch\n",
    "\n",
    "                batch_images = batch_images.to(device)\n",
    "                batch_labels = batch_labels.to(device)\n",
    "                adv_images = adv_images.to(device)\n",
    "\n",
    "                batch_output, mean, log_var = model(batch_images)\n",
    "\n",
    "                latent_1, _, _ = model.get_latent(batch_images.detach())\n",
    "                latent_2, _, _ = model.get_latent(adv_images.detach())\n",
    "\n",
    "                down_stream_loss = VAELoss(batch_output, batch_images.detach(), mean, log_var, a, b)\n",
    "                representation_loss = MMD_Loss(latent_1, latent_2)\n",
    "\n",
    "                total_loss = .00001*down_stream_loss + 10000*representation_loss\n",
    "\n",
    "\n",
    "                optimizer.zero_grad()\n",
    "                total_loss.backward(retain_graph=True)\n",
    "                optimizer.step()\n",
    "\n",
    "                print(\"The classification loss after processing this batch is: \", down_stream_loss.item())\n",
    "                print(\"The representation loss after processing this batch is: \", representation_loss.item())\n",
    "\n",
    "    else:\n",
    "        ## normal training\n",
    "        for batch in train_data:\n",
    "            batch_images, _ = batch\n",
    "            batch_images = batch_images.to(device)\n",
    "\n",
    "            batch_output, mean, log_var = model(batch_images)\n",
    "            loss = VAELoss(batch_output, batch_images, mean, log_var, a, b)\n",
    "\n",
    "            optimizer.zero_grad()\n",
    "            loss.backward()\n",
    "            print(\"*&**\"*30)\n",
    "            print(\"the loss after processing this batch is: \", loss.item())\n",
    "            optimizer.step()\n",
    "\n",
    "    return model"
   ]
  },
  {
   "cell_type": "code",
   "execution_count": null,
   "metadata": {},
   "outputs": [
    {
     "data": {
      "text/plain": [
       "IncompatibleKeys(missing_keys=[], unexpected_keys=[])"
      ]
     },
     "execution_count": 8,
     "metadata": {},
     "output_type": "execute_result"
    }
   ],
   "source": [
    "initial_vae = VFAE_CONV_NeuralModel().to(device)\n",
    "#initial_vae = train_vae(initial_vae, train_loader, a=1, b=1, False)\n",
    "#torch.save(initial_vae.state_dict(), \"models/trained_vae_b=1_variant_rep\")\n",
    "initial_vae.load_state_dict(torch.load(\"models/trained_vae_b=1_variant_rep\"))"
   ]
  },
  {
   "cell_type": "code",
   "execution_count": null,
   "metadata": {},
   "outputs": [
    {
     "data": {
      "image/png": "[encoded data removed]",
      "text/plain": [
       "<Figure size 1080x1080 with 1 Axes>"
      ]
     },
     "metadata": {
      "needs_background": "light"
     },
     "output_type": "display_data"
    },
    {
     "data": {
      "image/png": "[encoded data removed]",
      "text/plain": [
       "<Figure size 1080x1080 with 1 Axes>"
      ]
     },
     "metadata": {
      "needs_background": "light"
     },
     "output_type": "display_data"
    }
   ],
   "source": [
    "batch_size = 10\n",
    "train_loader = torch.utils.data.DataLoader(train_set, batch_size=batch_size)\n",
    "train_loader_iter = iter(train_loader)\n",
    "first_images, first_labels = next(train_loader_iter)\n",
    "\n",
    "show_batch(first_images)\n",
    "\n",
    "recs, _, _ = initial_vae(first_images.to(device))\n",
    "show_batch(recs.cpu())"
   ]
  },
  {
   "cell_type": "code",
   "execution_count": null,
   "metadata": {},
   "outputs": [],
   "source": [
    "class VFAEEClassifier(nn.Module):\n",
    "    def __init__(self, beta, initial_VAE):\n",
    "        super().__init__()\n",
    "        \n",
    "        self.vae = initial_vae\n",
    "        \n",
    "        self.classifier_part = self.encoder = nn.Sequential(\n",
    "\n",
    "            nn.Conv2d(16, 14, kernel_size=3, stride=1, padding=0),\n",
    "            nn.BatchNorm2d(14),\n",
    "            nn.ReLU(inplace=True),\n",
    "\n",
    "            nn.Conv2d(14, 12, kernel_size=3, stride=1, padding=0),\n",
    "            nn.BatchNorm2d(12),\n",
    "            nn.ReLU(inplace=True),\n",
    "            \n",
    "            nn.Conv2d(12, 10, kernel_size=3, stride=1, padding=0),\n",
    "            nn.BatchNorm2d(10),\n",
    "            \n",
    "        )\n",
    "        \n",
    "        self.fc = nn.Linear(10 * 1 * 1, 10)\n",
    "        # no_of_last_channels* kernel_H * kernel_W, output_from_fully_conncected \n",
    "    def forward(self, x):\n",
    "        #with torch.no_grad():\n",
    "        vaee_features, _, _ = self.vae.get_latent(x)\n",
    "\n",
    "        vaee_features = vaee_features.reshape(-1, 16, 7, 7)\n",
    "        convolved = self.classifier_part(vaee_features)\n",
    "\n",
    "        classification_logits = self.fc(convolved.view(convolved.size(0), -1))\n",
    "        \n",
    "        return  classification_logits\n",
    "    "
   ]
  },
  {
   "cell_type": "code",
   "execution_count": null,
   "metadata": {},
   "outputs": [],
   "source": [
    "def train_classifier(model, train_data):\n",
    "    criterion = nn.CrossEntropyLoss()\n",
    "    learning_rate = 0.01\n",
    "    optimizer = torch.optim.Adam(model.parameters(), lr=learning_rate)\n",
    "\n",
    "    n_epochs = 1\n",
    "    model.train()\n",
    "    \n",
    "    model.to(device)\n",
    "    \n",
    "    for epoch in range(n_epochs):\n",
    "        if epoch %2 == 0:\n",
    "            learning_rate /= 2.5\n",
    "            optimizer = torch.optim.Adam(model.parameters(), lr=learning_rate)\n",
    "        \n",
    "        for batch in train_data:\n",
    "            batch_images, batch_labels = batch\n",
    "            \n",
    "            batch_images = batch_images.to(device)\n",
    "            batch_labels = batch_labels.to(device)\n",
    "\n",
    "            batch_output = model(batch_images)\n",
    "            loss = criterion(batch_output, batch_labels)\n",
    "            optimizer.zero_grad()\n",
    "            loss.backward()\n",
    "            \n",
    "            optimizer.step()\n",
    "            model.vae = initial_classifier.vae\n",
    "        print(\"the loss after processing this epoch is: \", loss.item())\n",
    "            \n",
    "    return model"
   ]
  },
  {
   "cell_type": "code",
   "execution_count": null,
   "metadata": {},
   "outputs": [
    {
     "name": "stdout",
     "output_type": "stream",
     "text": [
      "the loss after processing this epoch is:  0.08298791199922562\n"
     ]
    }
   ],
   "source": [
    "b=1\n",
    "\n",
    "initial_classifier = VFAEEClassifier(beta=b, initial_VAE=initial_vae).to(device)\n",
    "model =  VFAEEClassifier(beta=b, initial_VAE=initial_vae).to(device)\n",
    "\n",
    "batch_size = 256\n",
    "train_loader = torch.utils.data.DataLoader(train_set, batch_size=batch_size)\n",
    "model = train_classifier(model, train_loader)"
   ]
  },
  {
   "cell_type": "code",
   "execution_count": null,
   "metadata": {},
   "outputs": [
    {
     "name": "stdout",
     "output_type": "stream",
     "text": [
      "0.9856\n"
     ]
    }
   ],
   "source": [
    "test_loader = torch.utils.data.DataLoader(test_set, batch_size=batch_size)\n",
    "testing_accuracy_before_attack = test_model(model, test_loader)\n",
    "print(testing_accuracy_before_attack)"
   ]
  },
  {
   "cell_type": "code",
   "execution_count": null,
   "metadata": {},
   "outputs": [
    {
     "name": "stdout",
     "output_type": "stream",
     "text": [
      "FGSM Attack : \n",
      "0.13571666666666668\n",
      "=*=*=*=*=*=*=*=*=*=*=*=*=*=*=*=*=*=*=*=*\n",
      "6.88317346572876\n",
      "Projected Gradient Attack : \n",
      "0.0844\n",
      "=*=*=*=*=*=*=*=*=*=*=*=*=*=*=*=*=*=*=*=*\n",
      "iFGSM Attack : \n",
      "0.00013333333333333334\n",
      "=*=*=*=*=*=*=*=*=*=*=*=*=*=*=*=*=*=*=*=*\n",
      "104.80234336853027\n",
      "Deep Fool Attack : \n"
     ]
    }
   ],
   "source": [
    "test_loader = torch.utils.data.DataLoader(test_set, batch_size=512)\n",
    "import time \n",
    "time_1 = time.time()\n",
    "\n",
    "print(attack(model, device, train_loader, fgsm, 0.3)[0])\n",
    "print(\"=*\" * 20)\n",
    "time_2 = time.time()\n",
    "print(time_2 - time_1)\n",
    "\n",
    "print(attack(model, device, train_loader, pgd, 0.3, 1e4, 40)[0])\n",
    "print(\"=*\" * 20)\n",
    "\n",
    "time_1 = time.time()\n",
    "\n",
    "print(attack(model, device, train_loader, pgd_linf, 0.3, 1e-2, 40)[0])\n",
    "print(\"=*\" * 20)\n",
    "time_2 = time.time()\n",
    "print(time_2 - time_1)\n",
    "\n",
    "time_1 = time.time()\n",
    "print(attack(model, device, train_loader, pgd_l2, 1, 0.3, 40)[0])\n",
    "time_2 = time.time()\n",
    "print(time_2 - time_1)\n"
   ]
  },
  {
   "cell_type": "code",
   "execution_count": null,
   "metadata": {},
   "outputs": [],
   "source": [
    "def get_training_examples(model): \n",
    "    training_examples = []\n",
    "\n",
    "    examples = get_examples(model, device, train_loader, fgsm, 0.3)\n",
    "    training_examples.append(examples)\n",
    "\n",
    "    examples = get_examples(model, device, train_loader, pgd, 0.3, 1e4, 40)\n",
    "    training_examples.append(examples)\n",
    "\n",
    "    examples = get_examples(model, device, train_loader, pgd_linf, 0.3, 1e-2, 40)\n",
    "    training_examples.append(examples)\n",
    "    training_examples.append(examples)\n",
    "    training_examples.append(examples)\n",
    "    training_examples.append(examples)\n",
    "    \n",
    "    examples = get_examples(model, device, train_loader, pgd_l2, 1.3, 0.3, 40)\n",
    "\n",
    "    return training_examples"
   ]
  },
  {
   "cell_type": "code",
   "execution_count": null,
   "metadata": {},
   "outputs": [],
   "source": [
    "def train_classifier_adv(model, train_data):\n",
    "    criterion = nn.CrossEntropyLoss()\n",
    "    learning_rate = 0.01\n",
    "    optimizer = torch.optim.Adam(model.parameters(), lr=learning_rate)\n",
    "\n",
    "    n_epochs = 10\n",
    "    model.train()\n",
    "    \n",
    "    model.to(device)\n",
    "    \n",
    "    for epoch in range(n_epochs):\n",
    "        if epoch %2 == 0:\n",
    "            learning_rate /= 2.5\n",
    "            optimizer = torch.optim.Adam(model.parameters(), lr=learning_rate)\n",
    "        \n",
    "        for train in train_data:\n",
    "            for batch in train:\n",
    "                batch_images, adv_images, batch_labels = batch\n",
    "\n",
    "                batch_images = batch_images.to(device)\n",
    "                batch_labels = batch_labels.to(device)\n",
    "                adv_images = adv_images.to(device)\n",
    "\n",
    "                batch_output = model(batch_images)\n",
    "                loss = criterion(batch_output, batch_labels)\n",
    "                \n",
    "                adv_output = model(adv_images)\n",
    "                \n",
    "                loss += criterion(adv_output, batch_labels )\n",
    "                optimizer.zero_grad()\n",
    "                loss.backward()\n",
    "\n",
    "                optimizer.step()\n",
    "                model.vae = initial_classifier.vae\n",
    "        print(\"the loss after processing this epoch is: \", loss.item())\n",
    "            \n",
    "    return model"
   ]
  },
  {
   "cell_type": "code",
   "execution_count": null,
   "metadata": {},
   "outputs": [],
   "source": [
    "vafee = VFAE_CONV_NeuralModel().to(device)\n",
    "initial_classifier = VFAEEClassifier(beta=b, initial_VAE=vafee).to(device)\n",
    "\n",
    "for i in range(10):\n",
    "    training_examples = get_training_examples(model)\n",
    "    vafee = train_vae(vafee, training_examples, 1, 1, adv_examples= True)\n",
    "   \n",
    "    model =  VFAEEClassifier(beta=1, initial_VAE=vafee).to(device)\n",
    "\n",
    "    batch_size = 128\n",
    "    train_loader = torch.utils.data.DataLoader(train_set, batch_size=batch_size)\n",
    "    model = train_classifier_adv(model, training_examples)"
   ]
  },
  {
   "cell_type": "code",
   "execution_count": null,
   "metadata": {},
   "outputs": [],
   "source": [
    "import time\n",
    "time_1 = time.time()\n",
    "test_loader = torch.utils.data.DataLoader(test_set, batch_size=512)\n",
    "print(attack(model, device, test_loader, fgsm, 0.3)[0])\n",
    "print(\"=*\" * 20)\n",
    "time_2 = time.time()\n",
    "\n",
    "print(time_2-time_1)"
   ]
  },
  {
   "cell_type": "code",
   "execution_count": null,
   "metadata": {},
   "outputs": [],
   "source": [
    "print(attack(model, device, test_loader, pgd, 0.3, 1e4, 40)[0])\n",
    "print(\"=*\" * 20)"
   ]
  },
  {
   "cell_type": "code",
   "execution_count": null,
   "metadata": {},
   "outputs": [],
   "source": [
    "time_1 = time.time()\n",
    "print(attack(model, device, test_loader, pgd_linf, 0.3, 1e-2, 40)[0])\n",
    "print(\"=*\" * 20)\n",
    "time_2 = time.time()\n",
    "\n",
    "print(time_2-time_1)"
   ]
  },
  {
   "cell_type": "code",
   "execution_count": null,
   "metadata": {},
   "outputs": [],
   "source": [
    "print(attack(model, device, test_loader, pgd_l2,  1, 0.3, 40)[0])"
   ]
  },
  {
   "cell_type": "code",
   "execution_count": null,
   "metadata": {},
   "outputs": [],
   "source": [
    "## modify multiplication factors\n",
    "## modify printed text \"classification loss to reconstruction loss\""
   ]
  },
  {
   "cell_type": "code",
   "execution_count": null,
   "metadata": {},
   "outputs": [],
   "source": [
    "fgsms = []\n",
    "pgds = []\n",
    "ifgsms=[]\n",
    "deepfools=[]\n",
    "epsilons = [0, .05, .1, .15, .2, .25, .3]\n",
    "for eps in epsilons :\n",
    "    fgsms.append(attack(model, device, test_loader, fgsm, eps)[0])\n",
    "\n",
    "    pgds.append(attack(model, device, test_loader, pgd, eps, 1e4, 40)[0])\n",
    "\n",
    "    ifgsms.append(attack(model, device, test_loader, pgd_linf, eps, 1e-2, 40)[0])\n",
    "\n",
    "    deepfools.append(attack(model, device, test_loader, pgd_l2, 1.3, eps, 40)[0])\n",
    "    "
   ]
  },
  {
   "cell_type": "code",
   "execution_count": null,
   "metadata": {},
   "outputs": [],
   "source": [
    "plt.plot(epsilons, fgsms, label = 'fgsm')\n",
    "plt.plot(epsilons, pgds, label =\"pgd\")\n",
    "plt.plot(epsilons, ifgsms, label = 'ifgsm')\n",
    "plt.plot(epsilons, deepfools, label = 'deep fool L2')\n",
    "plt.legend() \n",
    "\n",
    "plt.xlabel('$\\epsilon$', size = 'xx-large', fontweight = 'demi')\n",
    "plt.ylabel('Accuracy', size = 'x-large')\n",
    "plt.ylim([0,1.0])\n",
    "plt.yticks(np.linspace(0,1,11))\n",
    "plt.savefig('figures/vafee4_111_classifier.pdf', format='pdf', bbox_inches='tight', quality = 100)\n",
    "plt.show()"
   ]
  },
  {
   "cell_type": "code",
   "execution_count": null,
   "metadata": {},
   "outputs": [],
   "source": []
  }
 ],
 "metadata": {
  "kernelspec": {
   "display_name": "Python 3",
   "language": "python",
   "name": "python3"
  },
  "language_info": {
   "codemirror_mode": {
    "name": "ipython",
    "version": 3
   },
   "file_extension": ".py",
   "mimetype": "text/x-python",
   "name": "python",
   "nbconvert_exporter": "python",
   "pygments_lexer": "ipython3",
   "version": "3.7.3"
  }
 },
 "nbformat": 4,
 "nbformat_minor": 2
}
