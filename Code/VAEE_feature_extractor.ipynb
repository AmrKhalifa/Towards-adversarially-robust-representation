{
 "cells": [
  {
   "cell_type": "code",
   "execution_count": 1,
   "metadata": {},
   "outputs": [],
   "source": [
    "import torch\n",
    "import torch.nn as nn\n",
    "from utils import data_loader\n",
    "from utils.viewer import show_batch\n",
    "import time\n",
    "from vae_models import VAE_CONV_NeuralModel\n",
    "from graphviz import Digraph\n",
    "from torchviz import make_dot, make_dot_from_trace\n",
    "import matplotlib.pyplot as plt\n",
    "import numpy as np\n",
    "from multiple_attacks import *\n",
    "from mnist_classifier import NeuralModel, test_model"
   ]
  },
  {
   "cell_type": "code",
   "execution_count": 2,
   "metadata": {},
   "outputs": [],
   "source": [
    "use_cuda = True\n",
    "device = torch.device(\"cuda\" if (use_cuda and torch.cuda.is_available()) else \"cpu\")"
   ]
  },
  {
   "cell_type": "code",
   "execution_count": 3,
   "metadata": {},
   "outputs": [],
   "source": [
    "train_set, test_set = data_loader.get_data()"
   ]
  },
  {
   "cell_type": "code",
   "execution_count": 4,
   "metadata": {},
   "outputs": [],
   "source": [
    "class VAEEClassifier(nn.Module):\n",
    "    def __init__(self, beta):\n",
    "        super().__init__()\n",
    "        \n",
    "        self.vae = VAE_CONV_NeuralModel()\n",
    "        self.vae.load_state_dict(torch.load(\"models/trained_CONV_vae_B=\"+str(beta)))\n",
    "        \n",
    "        self.classifier_part = self.encoder = nn.Sequential(\n",
    "\n",
    "            nn.Conv2d(16, 14, kernel_size=3, stride=1, padding=0),\n",
    "            nn.BatchNorm2d(14),\n",
    "            nn.ReLU(inplace=True),\n",
    "\n",
    "            nn.Conv2d(14, 12, kernel_size=3, stride=1, padding=0),\n",
    "            nn.BatchNorm2d(12),\n",
    "            nn.ReLU(inplace=True),\n",
    "            \n",
    "            nn.Conv2d(12, 10, kernel_size=3, stride=1, padding=0),\n",
    "            nn.BatchNorm2d(10),\n",
    "            #nn.linear(inplace=True),\n",
    "            \n",
    "        )\n",
    "        \n",
    "        self.fc = nn.Linear(10 * 1 * 1, 10)\n",
    "        # no_of_last_channels* kernel_H * kernel_W, output_from_fully_conncected \n",
    "    def forward(self, x):\n",
    "        #with torch.no_grad():\n",
    "        vaee_features = self.vae.get_latent(x)\n",
    "        \n",
    "        convolved = self.classifier_part(vaee_features)\n",
    "        classification_logits = self.fc(convolved.view(convolved.size(0), -1))\n",
    "        \n",
    "        return  classification_logits\n",
    "            "
   ]
  },
  {
   "cell_type": "code",
   "execution_count": 5,
   "metadata": {},
   "outputs": [],
   "source": [
    "def train_model(model, train_data):\n",
    "    criterion = nn.CrossEntropyLoss()\n",
    "    learning_rate = 0.01\n",
    "    optimizer = torch.optim.Adam(model.parameters(), lr=learning_rate)\n",
    "\n",
    "    n_epochs = 15\n",
    "    model.train()\n",
    "    \n",
    "    model.to(device)\n",
    "    \n",
    "    for epoch in range(n_epochs):\n",
    "        if epoch %2 == 0:\n",
    "            learning_rate /= 2.5\n",
    "            optimizer = torch.optim.Adam(model.parameters(), lr=learning_rate)\n",
    "        \n",
    "        for batch in train_data:\n",
    "            batch_images, batch_labels = batch\n",
    "            \n",
    "            batch_images = batch_images.to(device)\n",
    "            batch_labels = batch_labels.to(device)\n",
    "\n",
    "            batch_output = model(batch_images)\n",
    "            loss = criterion(batch_output, batch_labels)\n",
    "            optimizer.zero_grad()\n",
    "            loss.backward()\n",
    "            \n",
    "            optimizer.step()\n",
    "            model.vae = initial_classifier.vae\n",
    "        print(\"the loss after processing this epoch is: \", loss.item())\n",
    "            \n",
    "    return model"
   ]
  },
  {
   "cell_type": "code",
   "execution_count": 6,
   "metadata": {},
   "outputs": [],
   "source": [
    "\n",
    "# torch.save(model.state_dict(), \"models/trained_VAEEClassifier\")\n",
    "\n",
    "# model = VAEEClassifier()\n",
    "# model.load_state_dict(torch.load(\"models/trained_VAEEClassifier\"))\n",
    "# model.to(device)\n"
   ]
  },
  {
   "cell_type": "code",
   "execution_count": 7,
   "metadata": {},
   "outputs": [],
   "source": [
    "fgsms = []\n",
    "pgds = []\n",
    "ifgsms=[]\n",
    "deepfools=[]\n",
    "eps = .3\n",
    "clean_accuracies =[]\n",
    "batch_size = 512\n",
    "train_loader = torch.utils.data.DataLoader(train_set, batch_size=batch_size)\n",
    "test_loader = torch.utils.data.DataLoader(test_set, batch_size=batch_size)"
   ]
  },
  {
   "cell_type": "code",
   "execution_count": 8,
   "metadata": {},
   "outputs": [
    {
     "name": "stdout",
     "output_type": "stream",
     "text": [
      "=*==*==*==*==*==*==*==*==*==*==*==*==*==*==*==*==*==*==*==*=\n",
      "the loss after processing this epoch is:  0.4084756076335907\n",
      "the loss after processing this epoch is:  0.34742990136146545\n",
      "the loss after processing this epoch is:  0.1055217981338501\n",
      "the loss after processing this epoch is:  0.07335751503705978\n",
      "the loss after processing this epoch is:  0.06892599910497665\n",
      "the loss after processing this epoch is:  0.03971533477306366\n",
      "the loss after processing this epoch is:  0.040640320628881454\n",
      "the loss after processing this epoch is:  0.024752654135227203\n",
      "the loss after processing this epoch is:  0.020920751616358757\n",
      "the loss after processing this epoch is:  0.011799429543316364\n",
      "the loss after processing this epoch is:  0.011993278749287128\n",
      "the loss after processing this epoch is:  0.008363897912204266\n",
      "the loss after processing this epoch is:  0.00971135962754488\n",
      "the loss after processing this epoch is:  0.007609829306602478\n",
      "the loss after processing this epoch is:  0.007704208139330149\n",
      "test accuracy is:  0.9919\n",
      "FGSM Attack : \n",
      "Projected Gradient Attack : \n",
      "iFGSM Attack : \n",
      "Deep Fool Attack : \n",
      "=*==*==*==*==*==*==*==*==*==*==*==*==*==*==*==*==*==*==*==*=\n",
      "the loss after processing this epoch is:  0.3638574182987213\n",
      "the loss after processing this epoch is:  0.257877916097641\n",
      "the loss after processing this epoch is:  0.15944427251815796\n",
      "the loss after processing this epoch is:  0.10231021046638489\n",
      "the loss after processing this epoch is:  0.098638154566288\n",
      "the loss after processing this epoch is:  0.062175776809453964\n",
      "the loss after processing this epoch is:  0.06531752645969391\n",
      "the loss after processing this epoch is:  0.041211243718862534\n",
      "the loss after processing this epoch is:  0.045116130262613297\n",
      "the loss after processing this epoch is:  0.03381378576159477\n",
      "the loss after processing this epoch is:  0.03524303063750267\n",
      "the loss after processing this epoch is:  0.028234481811523438\n",
      "the loss after processing this epoch is:  0.028497738763689995\n",
      "the loss after processing this epoch is:  0.027209430932998657\n",
      "the loss after processing this epoch is:  0.027560217306017876\n",
      "test accuracy is:  0.9922\n",
      "FGSM Attack : \n",
      "Projected Gradient Attack : \n",
      "iFGSM Attack : \n",
      "Deep Fool Attack : \n",
      "=*==*==*==*==*==*==*==*==*==*==*==*==*==*==*==*==*==*==*==*=\n",
      "the loss after processing this epoch is:  0.4338366687297821\n",
      "the loss after processing this epoch is:  0.3460693359375\n",
      "the loss after processing this epoch is:  0.1045629158616066\n",
      "the loss after processing this epoch is:  0.06797897070646286\n",
      "the loss after processing this epoch is:  0.06576748192310333\n",
      "the loss after processing this epoch is:  0.04058151692152023\n",
      "the loss after processing this epoch is:  0.0503072552382946\n",
      "the loss after processing this epoch is:  0.01944739557802677\n",
      "the loss after processing this epoch is:  0.021955713629722595\n",
      "the loss after processing this epoch is:  0.007846027612686157\n",
      "the loss after processing this epoch is:  0.007460827473551035\n",
      "the loss after processing this epoch is:  0.004005541559308767\n",
      "the loss after processing this epoch is:  0.005216747522354126\n",
      "the loss after processing this epoch is:  0.0031716029625386\n",
      "the loss after processing this epoch is:  0.0037268996238708496\n",
      "test accuracy is:  0.9921\n",
      "FGSM Attack : \n",
      "Projected Gradient Attack : \n",
      "iFGSM Attack : \n",
      "Deep Fool Attack : \n",
      "=*==*==*==*==*==*==*==*==*==*==*==*==*==*==*==*==*==*==*==*=\n",
      "the loss after processing this epoch is:  0.4654191732406616\n",
      "the loss after processing this epoch is:  0.40454939007759094\n",
      "the loss after processing this epoch is:  0.13251720368862152\n",
      "the loss after processing this epoch is:  0.08408860117197037\n",
      "the loss after processing this epoch is:  0.0741577073931694\n",
      "the loss after processing this epoch is:  0.057845767587423325\n",
      "the loss after processing this epoch is:  0.06225533410906792\n",
      "the loss after processing this epoch is:  0.04766116663813591\n",
      "the loss after processing this epoch is:  0.044604476541280746\n",
      "the loss after processing this epoch is:  0.03662692382931709\n",
      "the loss after processing this epoch is:  0.037397608160972595\n",
      "the loss after processing this epoch is:  0.031788170337677\n",
      "the loss after processing this epoch is:  0.03291132673621178\n",
      "the loss after processing this epoch is:  0.03091336600482464\n",
      "the loss after processing this epoch is:  0.031772106885910034\n",
      "test accuracy is:  0.9915\n",
      "FGSM Attack : \n",
      "Projected Gradient Attack : \n",
      "iFGSM Attack : \n",
      "Deep Fool Attack : \n",
      "=*==*==*==*==*==*==*==*==*==*==*==*==*==*==*==*==*==*==*==*=\n",
      "the loss after processing this epoch is:  0.47478631138801575\n",
      "the loss after processing this epoch is:  0.4621564447879791\n",
      "the loss after processing this epoch is:  0.12533916532993317\n",
      "the loss after processing this epoch is:  0.09554994106292725\n",
      "the loss after processing this epoch is:  0.09210556000471115\n",
      "the loss after processing this epoch is:  0.08103569597005844\n",
      "the loss after processing this epoch is:  0.0834413468837738\n",
      "the loss after processing this epoch is:  0.06888391822576523\n",
      "the loss after processing this epoch is:  0.06873616576194763\n",
      "the loss after processing this epoch is:  0.05950402095913887\n",
      "the loss after processing this epoch is:  0.0625765472650528\n",
      "the loss after processing this epoch is:  0.059537623077631\n",
      "the loss after processing this epoch is:  0.05992202088236809\n",
      "the loss after processing this epoch is:  0.05687608942389488\n",
      "the loss after processing this epoch is:  0.056609880179166794\n",
      "test accuracy is:  0.9923\n",
      "FGSM Attack : \n",
      "Projected Gradient Attack : \n",
      "iFGSM Attack : \n",
      "Deep Fool Attack : \n",
      "=*==*==*==*==*==*==*==*==*==*==*==*==*==*==*==*==*==*==*==*=\n",
      "the loss after processing this epoch is:  0.6071667671203613\n",
      "the loss after processing this epoch is:  0.5294225215911865\n",
      "the loss after processing this epoch is:  0.13263928890228271\n",
      "the loss after processing this epoch is:  0.10764167457818985\n",
      "the loss after processing this epoch is:  0.10576989501714706\n",
      "the loss after processing this epoch is:  0.08857765793800354\n",
      "the loss after processing this epoch is:  0.09128021448850632\n",
      "the loss after processing this epoch is:  0.08113844692707062\n",
      "the loss after processing this epoch is:  0.07937365025281906\n",
      "the loss after processing this epoch is:  0.07534436136484146\n",
      "the loss after processing this epoch is:  0.07216883450746536\n",
      "the loss after processing this epoch is:  0.07030919939279556\n",
      "the loss after processing this epoch is:  0.07064536213874817\n",
      "the loss after processing this epoch is:  0.06837238371372223\n",
      "the loss after processing this epoch is:  0.06931691616773605\n",
      "test accuracy is:  0.992\n",
      "FGSM Attack : \n",
      "Projected Gradient Attack : \n",
      "iFGSM Attack : \n",
      "Deep Fool Attack : \n",
      "=*==*==*==*==*==*==*==*==*==*==*==*==*==*==*==*==*==*==*==*=\n",
      "the loss after processing this epoch is:  0.5088076591491699\n",
      "the loss after processing this epoch is:  0.5123452544212341\n",
      "the loss after processing this epoch is:  0.12182477861642838\n",
      "the loss after processing this epoch is:  0.09370215982198715\n",
      "the loss after processing this epoch is:  0.0820225179195404\n",
      "the loss after processing this epoch is:  0.07308533787727356\n",
      "the loss after processing this epoch is:  0.073814757168293\n",
      "the loss after processing this epoch is:  0.06737805902957916\n",
      "the loss after processing this epoch is:  0.06484491378068924\n",
      "the loss after processing this epoch is:  0.06045030057430267\n",
      "the loss after processing this epoch is:  0.0619933158159256\n",
      "the loss after processing this epoch is:  0.055685412138700485\n",
      "the loss after processing this epoch is:  0.05500147119164467\n",
      "the loss after processing this epoch is:  0.05619451403617859\n",
      "the loss after processing this epoch is:  0.056762535125017166\n",
      "test accuracy is:  0.9913\n",
      "FGSM Attack : \n",
      "Projected Gradient Attack : \n",
      "iFGSM Attack : \n",
      "Deep Fool Attack : \n",
      "=*==*==*==*==*==*==*==*==*==*==*==*==*==*==*==*==*==*==*==*=\n",
      "the loss after processing this epoch is:  0.7408737540245056\n",
      "the loss after processing this epoch is:  0.6818874478340149\n",
      "the loss after processing this epoch is:  0.11247950047254562\n",
      "the loss after processing this epoch is:  0.09434127807617188\n",
      "the loss after processing this epoch is:  0.0871366336941719\n",
      "the loss after processing this epoch is:  0.06948269158601761\n",
      "the loss after processing this epoch is:  0.07334437966346741\n",
      "the loss after processing this epoch is:  0.06075221300125122\n"
     ]
    },
    {
     "name": "stdout",
     "output_type": "stream",
     "text": [
      "the loss after processing this epoch is:  0.059485647827386856\n",
      "the loss after processing this epoch is:  0.05393235385417938\n",
      "the loss after processing this epoch is:  0.05524209514260292\n",
      "the loss after processing this epoch is:  0.05186339095234871\n",
      "the loss after processing this epoch is:  0.05162819102406502\n",
      "the loss after processing this epoch is:  0.048737600445747375\n",
      "the loss after processing this epoch is:  0.05106785520911217\n",
      "test accuracy is:  0.9923\n",
      "FGSM Attack : \n",
      "Projected Gradient Attack : \n",
      "iFGSM Attack : \n",
      "Deep Fool Attack : \n",
      "=*==*==*==*==*==*==*==*==*==*==*==*==*==*==*==*==*==*==*==*=\n",
      "the loss after processing this epoch is:  0.7341647148132324\n",
      "the loss after processing this epoch is:  0.681914746761322\n",
      "the loss after processing this epoch is:  0.11974668502807617\n",
      "the loss after processing this epoch is:  0.09371203184127808\n",
      "the loss after processing this epoch is:  0.10150396078824997\n",
      "the loss after processing this epoch is:  0.08443253487348557\n",
      "the loss after processing this epoch is:  0.08614150434732437\n",
      "the loss after processing this epoch is:  0.08112051337957382\n",
      "the loss after processing this epoch is:  0.07860099524259567\n",
      "the loss after processing this epoch is:  0.07771463692188263\n",
      "the loss after processing this epoch is:  0.07770536094903946\n",
      "the loss after processing this epoch is:  0.07807661592960358\n",
      "the loss after processing this epoch is:  0.07469987869262695\n",
      "the loss after processing this epoch is:  0.07521187514066696\n",
      "the loss after processing this epoch is:  0.07551617920398712\n",
      "test accuracy is:  0.992\n",
      "FGSM Attack : \n",
      "Projected Gradient Attack : \n",
      "iFGSM Attack : \n",
      "Deep Fool Attack : \n"
     ]
    }
   ],
   "source": [
    "\n",
    "for b in range (1,10):\n",
    "    \n",
    "    print(\"=*=\"*20)\n",
    "    \n",
    "    initial_classifier = VAEEClassifier(beta=b).to(device)\n",
    "    model =  VAEEClassifier(beta=b).to(device)\n",
    "    model = train_model(model, train_loader)\n",
    "    \n",
    "    \n",
    "    testing_accuracy_before_attack = test_model(model, test_loader)\n",
    "    \n",
    "    print(\"test accuracy is: \", testing_accuracy_before_attack)\n",
    "    clean_accuracies.append(testing_accuracy_before_attack)\n",
    "    \n",
    "    fgsms.append(attack(model, device, test_loader, fgsm, eps)[0])\n",
    "\n",
    "    pgds.append(attack(model, device, test_loader, pgd, eps, 1e-2, 50)[0])\n",
    "\n",
    "    ifgsms.append(attack(model, device, test_loader, pgd_linf, eps, 1e4, 50)[0])\n",
    "\n",
    "    deepfools.append(attack(model, device, test_loader, pgd_l2, 1.3, eps, 50)[0])\n",
    "    \n"
   ]
  },
  {
   "cell_type": "code",
   "execution_count": 9,
   "metadata": {},
   "outputs": [
    {
     "data": {
      "image/png": "[encoded data removed]",
      "text/plain": [
       "<Figure size 432x288 with 1 Axes>"
      ]
     },
     "metadata": {
      "needs_background": "light"
     },
     "output_type": "display_data"
    }
   ],
   "source": [
    "plt.plot(fgsms, label = 'fgsm')\n",
    "plt.plot(pgds, label =\"pgd\")\n",
    "plt.plot(ifgsms, label = 'ifgsm')\n",
    "plt.plot(deepfools, label = 'deep fool L2')\n",
    "plt.legend() \n",
    "\n",
    "plt.xlabel('$Beta$', size = 'xx-large', fontweight = 'demi')\n",
    "plt.ylabel('Accuracy', size = 'x-large')\n",
    "plt.savefig('figures/vaee_classifier.pdf', format='pdf', bbox_inches='tight', quality = 100)\n",
    "\n",
    "plt.show()"
   ]
  },
  {
   "cell_type": "code",
   "execution_count": 10,
   "metadata": {},
   "outputs": [
    {
     "name": "stdout",
     "output_type": "stream",
     "text": [
      "[0.2642, 0.196, 0.1973, 0.1977, 0.2502, 0.2161, 0.2158, 0.2117, 0.1771]\n"
     ]
    }
   ],
   "source": [
    "print(pgds)"
   ]
  },
  {
   "cell_type": "code",
   "execution_count": 11,
   "metadata": {},
   "outputs": [],
   "source": [
    "# accuracies = np.array(accuracies).T\n",
    "\n",
    "# clean_accuracies = np.array(clean_accuracies).reshape(1,-1)\n",
    "# print(clean_accuracies.shape)\n",
    "\n",
    "# accuracies_diff = clean_accuracies - accuracies\n",
    "\n",
    "# for eps, per_epsilon_diff in zip(epsilons,accuracies_diff):\n",
    "#     plt.plot(per_epsilon_diff, label ='$\\epsilon$ = '+str(eps))\n",
    "# plt.legend( loc='upper right', bbox_to_anchor=(1.2,1))\n",
    "# plt.xlabel('$B$', size = 'xx-large', fontweight = 'demi')\n",
    "# plt.ylabel('Acc diff', size = 'x-large', fontweight = 'demi')"
   ]
  },
  {
   "cell_type": "code",
   "execution_count": 12,
   "metadata": {},
   "outputs": [
    {
     "name": "stdout",
     "output_type": "stream",
     "text": [
      "Projected Gradient Attack : \n",
      "0.0715\n"
     ]
    }
   ],
   "source": [
    "print(attack(model, device, test_loader, pgd, eps, 1e-2, 100)[0])"
   ]
  },
  {
   "cell_type": "code",
   "execution_count": 13,
   "metadata": {},
   "outputs": [
    {
     "name": "stdout",
     "output_type": "stream",
     "text": [
      "Projected Gradient Attack : \n",
      "0.9724\n"
     ]
    }
   ],
   "source": [
    "print(attack(model, device, test_loader, pgd, eps, 1e-4, 100)[0])"
   ]
  },
  {
   "cell_type": "code",
   "execution_count": null,
   "metadata": {},
   "outputs": [],
   "source": []
  }
 ],
 "metadata": {
  "kernelspec": {
   "display_name": "Python 3",
   "language": "python",
   "name": "python3"
  },
  "language_info": {
   "codemirror_mode": {
    "name": "ipython",
    "version": 3
   },
   "file_extension": ".py",
   "mimetype": "text/x-python",
   "name": "python",
   "nbconvert_exporter": "python",
   "pygments_lexer": "ipython3",
   "version": "3.7.3"
  }
 },
 "nbformat": 4,
 "nbformat_minor": 2
}
