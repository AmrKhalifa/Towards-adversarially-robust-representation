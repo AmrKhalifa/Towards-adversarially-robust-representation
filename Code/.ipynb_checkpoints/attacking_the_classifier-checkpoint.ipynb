{
 "cells": [
  {
   "cell_type": "markdown",
   "metadata": {},
   "source": [
    "### Implementation for FGSM attack on a CNN classifier of MNIST dataset. "
   ]
  },
  {
   "cell_type": "code",
   "execution_count": 1,
   "metadata": {},
   "outputs": [],
   "source": [
    "import torch\n",
    "from utils import data_loader\n",
    "from mnist_classifier import NeuralModel\n",
    "import numpy as np\n",
    "import matplotlib.pyplot as plt\n",
    "from utils.viewer import show_batch\n",
    "import time\n",
    "from multiple_attacks import *"
   ]
  },
  {
   "cell_type": "code",
   "execution_count": 2,
   "metadata": {},
   "outputs": [
    {
     "data": {
      "text/plain": [
       "IncompatibleKeys(missing_keys=[], unexpected_keys=[])"
      ]
     },
     "execution_count": 2,
     "metadata": {},
     "output_type": "execute_result"
    }
   ],
   "source": [
    "train_set, test_set = data_loader.get_data()\n",
    "\n",
    "batch_size = 512\n",
    "\n",
    "test_loader = torch.utils.data.DataLoader(test_set, batch_size=batch_size)\n",
    "\n",
    "epsilons = [0, .05, .1, .15, .2, .25, .3]\n",
    "use_cuda = True\n",
    "device = torch.device(\"cuda\" if (use_cuda and torch.cuda.is_available()) else \"cpu\")\n",
    "\n",
    "classification_model = NeuralModel()\n",
    "classification_model.load_state_dict(torch.load(\"models/trained_model\"))\n"
   ]
  },
  {
   "cell_type": "code",
   "execution_count": 3,
   "metadata": {},
   "outputs": [],
   "source": [
    "accuracies = []\n",
    "examples = []"
   ]
  },
  {
   "cell_type": "code",
   "execution_count": 4,
   "metadata": {},
   "outputs": [
    {
     "name": "stdout",
     "output_type": "stream",
     "text": [
      "FGSM Attack : \n",
      "Projected Gradient Attack : \n",
      "iFGSM Attack : \n",
      "Deep Fool Attack : \n",
      "FGSM Attack : \n",
      "Projected Gradient Attack : \n",
      "iFGSM Attack : \n",
      "Deep Fool Attack : \n",
      "FGSM Attack : \n",
      "Projected Gradient Attack : \n",
      "iFGSM Attack : \n",
      "Deep Fool Attack : \n",
      "FGSM Attack : \n",
      "Projected Gradient Attack : \n",
      "iFGSM Attack : \n",
      "Deep Fool Attack : \n",
      "FGSM Attack : \n",
      "Projected Gradient Attack : \n",
      "iFGSM Attack : \n",
      "Deep Fool Attack : \n",
      "FGSM Attack : \n",
      "Projected Gradient Attack : \n",
      "iFGSM Attack : \n",
      "Deep Fool Attack : \n",
      "FGSM Attack : \n",
      "Projected Gradient Attack : \n",
      "iFGSM Attack : \n",
      "Deep Fool Attack : \n"
     ]
    }
   ],
   "source": [
    "#Run test for each epsilon\n",
    "fgsms = []\n",
    "pgds = []\n",
    "ifgsms = []\n",
    "deepfools = []\n",
    "for eps in epsilons:\n",
    "    fgsms.append(attack(classification_model, device, test_loader, fgsm, eps)[0])\n",
    "\n",
    "    pgds.append(attack(classification_model, device, test_loader, pgd, eps, 1e-2, 50)[0])\n",
    "\n",
    "    ifgsms.append(attack(classification_model, device, test_loader, pgd_linf, eps, 1e4, 50)[0])\n",
    "\n",
    "    deepfools.append(attack(classification_model, device, test_loader, pgd_l2, 1.3, eps, 50)[0])"
   ]
  },
  {
   "cell_type": "code",
   "execution_count": null,
   "metadata": {},
   "outputs": [],
   "source": [
    "\n",
    "plt.plot(epsilons, fgsms, label = 'fgsm')\n",
    "plt.plot(epsilons, pgds, label =\"pgd\")\n",
    "plt.plot(epsilons, ifgsms, label = 'ifgsm')\n",
    "plt.plot(epsilons, deepfools, label = 'deep fool L2')\n",
    "plt.legend() \n",
    "\n",
    "plt.xlabel('$\\epsilon$', size = 'xx-large', fontweight = 'demi')\n",
    "plt.ylabel('Accuracy', size = 'x-large')\n",
    "plt.savefig('figures/attacked_classifier_no_defense.png', bbox_inches='tight', dpi = 5000, quality = 100, )\n",
    "plt.show()"
   ]
  },
  {
   "cell_type": "code",
   "execution_count": null,
   "metadata": {},
   "outputs": [],
   "source": []
  }
 ],
 "metadata": {
  "kernelspec": {
   "display_name": "Python 3",
   "language": "python",
   "name": "python3"
  },
  "language_info": {
   "codemirror_mode": {
    "name": "ipython",
    "version": 3
   },
   "file_extension": ".py",
   "mimetype": "text/x-python",
   "name": "python",
   "nbconvert_exporter": "python",
   "pygments_lexer": "ipython3",
   "version": "3.7.3"
  }
 },
 "nbformat": 4,
 "nbformat_minor": 2
}
