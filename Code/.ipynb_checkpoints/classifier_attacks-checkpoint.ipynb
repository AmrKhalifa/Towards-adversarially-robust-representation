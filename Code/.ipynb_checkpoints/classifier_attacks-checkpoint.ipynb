{
 "cells": [
  {
   "cell_type": "code",
   "execution_count": 12,
   "metadata": {},
   "outputs": [],
   "source": [
    "import torch\n",
    "from utils import data_loader\n",
    "from mnist_classifier import NeuralModel\n",
    "import mnist_classifier\n",
    "import torch.nn.functional as F\n",
    "import numpy as np\n",
    "import matplotlib.pyplot as plt\n",
    "import pickle\n",
    "from vae_models import VAE_CONV_NeuralModel\n",
    "from utils.viewer import show_batch\n",
    "import time "
   ]
  },
  {
   "cell_type": "code",
   "execution_count": 13,
   "metadata": {},
   "outputs": [
    {
     "data": {
      "text/plain": [
       "NeuralModel(\n",
       "  (conv): Sequential(\n",
       "    (0): Conv2d(1, 8, kernel_size=(5, 5), stride=(1, 1))\n",
       "    (1): MaxPool2d(kernel_size=2, stride=2, padding=0, dilation=1, ceil_mode=False)\n",
       "    (2): BatchNorm2d(8, eps=1e-05, momentum=0.5, affine=True, track_running_stats=True)\n",
       "    (3): ReLU(inplace)\n",
       "    (4): Conv2d(8, 8, kernel_size=(3, 3), stride=(1, 1), padding=(1, 1))\n",
       "    (5): BatchNorm2d(8, eps=1e-05, momentum=0.5, affine=True, track_running_stats=True)\n",
       "    (6): ReLU(inplace)\n",
       "    (7): Conv2d(8, 8, kernel_size=(5, 5), stride=(1, 1))\n",
       "    (8): MaxPool2d(kernel_size=2, stride=2, padding=0, dilation=1, ceil_mode=False)\n",
       "    (9): BatchNorm2d(8, eps=1e-05, momentum=0.5, affine=True, track_running_stats=True)\n",
       "    (10): ReLU(inplace)\n",
       "  )\n",
       "  (fc1): Linear(in_features=128, out_features=20, bias=True)\n",
       "  (fc2): Linear(in_features=20, out_features=10, bias=True)\n",
       ")"
      ]
     },
     "execution_count": 13,
     "metadata": {},
     "output_type": "execute_result"
    }
   ],
   "source": [
    "train_set, test_set = data_loader.get_data()\n",
    "\n",
    "batch_size = 1\n",
    "\n",
    "test_loader = torch.utils.data.DataLoader(test_set, batch_size=batch_size)\n",
    "\n",
    "epsilons = [0, .05, .1, .15, .2, .25, .3]\n",
    "#epsilons = [0.3]\n",
    "use_cuda = True\n",
    "device = torch.device(\"cuda\" if (use_cuda and torch.cuda.is_available()) else \"cpu\")\n",
    "\n",
    "classification_model = NeuralModel()\n",
    "classification_model.to(device)\n",
    "classification_model.load_state_dict(torch.load(\"models/trained_model\"))\n",
    "classification_model.eval()\n"
   ]
  },
  {
   "cell_type": "code",
   "execution_count": 14,
   "metadata": {},
   "outputs": [],
   "source": [
    "def fgsm_attack(image, epsilon, data_grad):\n",
    "    # Collect the element-wise sign of the data gradient\n",
    "    sign_data_grad = data_grad.sign()\n",
    "    # Create the perturbed image by adjusting each pixel of the input image\n",
    "    perturbed_image = image + epsilon * sign_data_grad\n",
    "    # Adding clipping to maintain [0,1] range\n",
    "    perturbed_image = torch.clamp(perturbed_image, 0, 1)\n",
    "    # Return the perturbed image\n",
    "    return perturbed_image"
   ]
  },
  {
   "cell_type": "code",
   "execution_count": 15,
   "metadata": {},
   "outputs": [],
   "source": [
    "def test(model, device, test_loader, epsilon):\n",
    "    # Accuracy counter\n",
    "    correct = 0\n",
    "    adv_examples = []\n",
    "\n",
    "    # Loop over all examples in test set\n",
    "    for data, target in test_loader:\n",
    "\n",
    "        # Send the data and label to the device\n",
    "        data, target = data.to(device), target.to(device)\n",
    "\n",
    "        # Set requires_grad attribute of tensor. Important for Attack\n",
    "        data.requires_grad = True\n",
    "\n",
    "        # Forward pass the data through the model\n",
    "        output = model(data)\n",
    "        init_pred = output.max(1, keepdim=True)[1]  # get the index of the max log-probability\n",
    "\n",
    "        # If the initial prediction is wrong, dont bother attacking, just move on\n",
    "        if init_pred.item() != target.item():\n",
    "            continue\n",
    "\n",
    "        # Calculate the loss\n",
    "        loss = F.nll_loss(output, target)\n",
    "\n",
    "        # Zero all existing gradients\n",
    "        model.zero_grad()\n",
    "\n",
    "        # Calculate gradients of model in backward pass\n",
    "        loss.backward()\n",
    "\n",
    "        # Collect datagrad\n",
    "        data_grad = data.grad.data\n",
    "\n",
    "        # Call FGSM Attack\n",
    "        perturbed_data = fgsm_attack(data, epsilon, data_grad)\n",
    "\n",
    "        # Re-classify the perturbed image\n",
    "        output = model(perturbed_data)\n",
    "\n",
    "        # Check for success\n",
    "        final_pred = output.max(1, keepdim=True)[1]  # get the index of the max log-probability\n",
    "        if final_pred.item() == target.item():\n",
    "            correct += 1\n",
    "            # Special case for saving 0 epsilon examples\n",
    "            if (epsilon == 0) and (len(adv_examples) < 5):\n",
    "                adv_ex = perturbed_data.squeeze().detach().cpu().numpy()\n",
    "                adv_examples.append((init_pred.item(), final_pred.item(), adv_ex))\n",
    "        else:\n",
    "            # Save some adv examples for visualization later\n",
    "            if len(adv_examples) < 10000:\n",
    "                adv_ex = perturbed_data.squeeze().detach().cpu().numpy()\n",
    "                adv_examples.append((init_pred.item(), final_pred.item(), adv_ex))\n",
    "\n",
    "    # Calculate final accuracy for this epsilon\n",
    "    final_acc = correct / float(len(test_loader))\n",
    "    print(\"Epsilon: {}\\tTest Accuracy = {} / {} = {}\".format(epsilon, correct, len(test_loader), final_acc))\n",
    "\n",
    "    # Return the accuracy and an adversarial example\n",
    "    return final_acc, adv_examples"
   ]
  },
  {
   "cell_type": "code",
   "execution_count": 16,
   "metadata": {},
   "outputs": [],
   "source": [
    "accuracies = []\n",
    "examples = []"
   ]
  },
  {
   "cell_type": "code",
   "execution_count": null,
   "metadata": {},
   "outputs": [],
   "source": [
    "#Run test for each epsilon\n",
    "time_1 = time.time()\n",
    "for eps in epsilons:\n",
    "    acc, ex = test(classification_model, device, test_loader, eps)\n",
    "    accuracies.append(acc)\n",
    "    examples.append(ex)\n",
    "\n",
    "# with open('models/adversarial_examples.pkl', 'wb') as f:\n",
    "#     pickle.dump(examples, f)"
   ]
  },
  {
   "cell_type": "code",
   "execution_count": null,
   "metadata": {},
   "outputs": [],
   "source": [
    "with open('models/adversarial_examples.pkl', 'rb') as f:\n",
    "    examples = pickle.load(f)\n",
    "\n",
    "examples = examples[0]\n",
    "\n",
    "true_labels = []\n",
    "adv_labels = []\n",
    "images = []\n",
    "\n",
    "for example in examples:\n",
    "    true_label, adv_label, image = example\n",
    "\n",
    "    true_labels.append(true_label)\n",
    "    adv_labels.append(adv_label)\n",
    "    images.append(image)"
   ]
  },
  {
   "cell_type": "code",
   "execution_count": 18,
   "metadata": {},
   "outputs": [
    {
     "name": "stdout",
     "output_type": "stream",
     "text": [
      "the time needed to perform the attacks is:  276.5374376773834  seconds\n"
     ]
    }
   ],
   "source": [
    "time_2 = time.time()\n",
    "\n",
    "print(\"the time needed to perform the attacks is: \", time_2-time_1, \" seconds\")\n",
    "# true_labels = torch.Tensor(true_labels).long()\n",
    "# images = torch.Tensor(images)\n",
    "# b_size, w, h = images.shape\n",
    "# images = images.reshape(b_size, 1, w, h)\n",
    "\n",
    "# vae = VAE_CONV_NeuralModel()\n",
    "# vae.load_state_dict(torch.load(\"models/trained_CONV_vae_B=1\"))\n",
    "# #\n",
    "# # plt.imshow(images[15])\n",
    "# # plt.show()\n",
    "# #\n",
    "\n",
    "# testing_images = test_set.test_data.reshape(-1,1, 28,28).float()\n",
    "# testing_labels = test_set.targets\n",
    "# recs, _, _ = vae(testing_images)\n",
    "# recs = recs.reshape(-1, 1, 28, 28)\n",
    "\n",
    "# # show_batch(recs)\n",
    "\n",
    "# reconstructed_data = (recs, testing_labels)\n",
    "\n",
    "# mnist_classifier.test_model(classification_model, reconstructed_data)"
   ]
  },
  {
   "cell_type": "code",
   "execution_count": 19,
   "metadata": {},
   "outputs": [
    {
     "name": "stdout",
     "output_type": "stream",
     "text": [
      "[0.9883, 0.8086, 0.4243, 0.212, 0.1176, 0.0821, 0.071]\n"
     ]
    },
    {
     "data": {
      "image/png": "[encoded data removed]",
      "text/plain": [
       "<Figure size 432x288 with 1 Axes>"
      ]
     },
     "metadata": {
      "needs_background": "light"
     },
     "output_type": "display_data"
    }
   ],
   "source": [
    "print(accuracies)\n",
    "plt.plot(epsilons, accuracies)\n",
    "plt.show()"
   ]
  },
  {
   "cell_type": "code",
   "execution_count": null,
   "metadata": {},
   "outputs": [],
   "source": []
  }
 ],
 "metadata": {
  "kernelspec": {
   "display_name": "Python 3",
   "language": "python",
   "name": "python3"
  },
  "language_info": {
   "codemirror_mode": {
    "name": "ipython",
    "version": 3
   },
   "file_extension": ".py",
   "mimetype": "text/x-python",
   "name": "python",
   "nbconvert_exporter": "python",
   "pygments_lexer": "ipython3",
   "version": "3.7.3"
  }
 },
 "nbformat": 4,
 "nbformat_minor": 2
}
