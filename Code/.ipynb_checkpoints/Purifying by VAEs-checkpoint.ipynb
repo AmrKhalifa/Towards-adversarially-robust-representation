{
 "cells": [
  {
   "cell_type": "code",
   "execution_count": 1,
   "metadata": {},
   "outputs": [],
   "source": [
    "import torch\n",
    "from utils import data_loader\n",
    "from mnist_classifier import NeuralModel\n",
    "import mnist_classifier\n",
    "import torch.nn.functional as F\n",
    "import numpy as np\n",
    "import matplotlib.pyplot as plt\n",
    "import pickle\n",
    "from vae_models import VAE_CONV_NeuralModel\n",
    "from utils.viewer import show_batch"
   ]
  },
  {
   "cell_type": "code",
   "execution_count": 2,
   "metadata": {},
   "outputs": [],
   "source": [
    "train_set, test_set = data_loader.get_data()\n",
    "use_cuda = True\n",
    "device = torch.device(\"cuda\" if (use_cuda and torch.cuda.is_available()) else \"cpu\")"
   ]
  },
  {
   "cell_type": "code",
   "execution_count": 5,
   "metadata": {},
   "outputs": [],
   "source": [
    "classification_model = NeuralModel()\n",
    "classification_model.to(device)\n",
    "classification_model.load_state_dict(torch.load(\"models/trained_model\"))\n",
    "classification_model.eval()\n",
    "\n",
    "epsilons = [0, .05, .1, .15, .2, .25, .3]"
   ]
  },
  {
   "cell_type": "code",
   "execution_count": 15,
   "metadata": {},
   "outputs": [
    {
     "name": "stdout",
     "output_type": "stream",
     "text": [
      "The classifier accuracy is:  76.66\n",
      "The classifier accuracy is:  76.67\n",
      "The classifier accuracy is:  74.22\n",
      "The classifier accuracy is:  72.31\n",
      "The classifier accuracy is:  70.24000000000001\n",
      "The classifier accuracy is:  65.91\n",
      "The classifier accuracy is:  61.53999999999999\n"
     ]
    }
   ],
   "source": [
    "for eps in epsilons: \n",
    "    path = 'models/adversarial_examples/adversarial_examples_epsilon='+str(eps)+'_.pkl'\n",
    "   \n",
    "    with open(path, 'rb') as f:\n",
    "        examples_set = pickle.load(f)\n",
    "        \n",
    "        true_labels = []\n",
    "        adv_labels = []\n",
    "        images = []\n",
    "\n",
    "        for example in examples_set:\n",
    "            true_label, adv_label, image = example\n",
    "\n",
    "            true_labels.append(true_label)\n",
    "            adv_labels.append(adv_label)\n",
    "            images.append(image)\n",
    "\n",
    "        true_labels = torch.Tensor(true_labels).long().to(device)\n",
    "        #print(\"hey\")\n",
    "        #print(len(images))\n",
    "        images = torch.Tensor(images)\n",
    "        #print(len(images))\n",
    "        b_size, w, h = images.shape\n",
    "        images = images.reshape(b_size, 1, w, h)\n",
    "        #print(images.shape)\n",
    "        images = images.to(device)\n",
    "\n",
    "        vae = VAE_CONV_NeuralModel()\n",
    "        vae.load_state_dict(torch.load(\"models/trained_CONV_vae_B=8\"))\n",
    "        vae.to(device)\n",
    "\n",
    "\n",
    "        #testing_images = test_set.test_data.reshape(-1,1, 28,28).float().to(device)\n",
    "        #testing_labels = test_set.targets.to(device)\n",
    "\n",
    "        recs, _, _ = vae(images)\n",
    "        recs = recs.reshape(-1, 1, 28, 28)\n",
    "        reconstructed_data = (recs, true_labels)\n",
    "        #print(len(recs))\n",
    "        #print(testing_labels[:5])\n",
    "        mnist_classifier.test_model(classification_model, reconstructed_data)"
   ]
  },
  {
   "cell_type": "code",
   "execution_count": null,
   "metadata": {},
   "outputs": [],
   "source": []
  }
 ],
 "metadata": {
  "kernelspec": {
   "display_name": "Python 3",
   "language": "python",
   "name": "python3"
  },
  "language_info": {
   "codemirror_mode": {
    "name": "ipython",
    "version": 3
   },
   "file_extension": ".py",
   "mimetype": "text/x-python",
   "name": "python",
   "nbconvert_exporter": "python",
   "pygments_lexer": "ipython3",
   "version": "3.7.3"
  }
 },
 "nbformat": 4,
 "nbformat_minor": 2
}
