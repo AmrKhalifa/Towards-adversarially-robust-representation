{
 "cells": [
  {
   "cell_type": "code",
   "execution_count": 1,
   "metadata": {},
   "outputs": [],
   "source": [
    "import torch\n",
    "import torch.nn as nn\n",
    "from vae_models import VAE_CONV_NeuralModel\n",
    "from mnist_classifier import NeuralModel, test_model\n",
    "from utils import data_loader\n",
    "import torch.nn.functional as F\n",
    "import time \n",
    "import numpy as np \n",
    "import matplotlib.pyplot as plt \n",
    "import sys\n",
    "from multiple_attacks import *"
   ]
  },
  {
   "cell_type": "code",
   "execution_count": 2,
   "metadata": {},
   "outputs": [],
   "source": [
    "train_set, test_set = data_loader.get_data()\n",
    "\n",
    "batch_size =128\n",
    "\n",
    "test_loader = torch.utils.data.DataLoader(test_set, batch_size=batch_size)\n",
    "use_cuda = True\n",
    "device = torch.device(\"cuda\" if (use_cuda and torch.cuda.is_available()) else \"cpu\")\n",
    "BOLD    = \"\\033[;1m\"\n",
    "RED   = \"\\033[1;31m\"\n",
    "RESET = \"\\033[0;0m\""
   ]
  },
  {
   "cell_type": "code",
   "execution_count": 3,
   "metadata": {},
   "outputs": [],
   "source": [
    "epsilons = .3\n",
    "accuracies = []\n"
   ]
  },
  {
   "cell_type": "code",
   "execution_count": 4,
   "metadata": {},
   "outputs": [],
   "source": [
    "class VAEClassifierModel(nn.Module):\n",
    "    def __init__(self, beta):\n",
    "        super().__init__()\n",
    "        self.vae = VAE_CONV_NeuralModel()\n",
    "        self.vae.load_state_dict(torch.load(\"models/trained_CONV_vae_B=\"+str(beta)))\n",
    "\n",
    "        self.classification_model = NeuralModel()\n",
    "        self.classification_model.load_state_dict(torch.load(\"models/trained_model\"))\n",
    "\n",
    "    def forward(self, x):\n",
    "        after_vae = self.vae(x)\n",
    "        classification = self.classification_model(after_vae[0])\n",
    "\n",
    "        return classification\n",
    "        pass"
   ]
  },
  {
   "cell_type": "code",
   "execution_count": 5,
   "metadata": {},
   "outputs": [
    {
     "name": "stdout",
     "output_type": "stream",
     "text": [
      "FGSM Attack : \n",
      "Projected Gradient Attack : \n",
      "iFGSM Attack : \n",
      "Deep Fool Attack : \n",
      "FGSM Attack : \n",
      "Projected Gradient Attack : \n",
      "iFGSM Attack : \n",
      "Deep Fool Attack : \n",
      "FGSM Attack : \n",
      "Projected Gradient Attack : \n",
      "iFGSM Attack : \n",
      "Deep Fool Attack : \n",
      "FGSM Attack : \n",
      "Projected Gradient Attack : \n",
      "iFGSM Attack : \n",
      "Deep Fool Attack : \n",
      "FGSM Attack : \n",
      "Projected Gradient Attack : \n",
      "iFGSM Attack : \n",
      "Deep Fool Attack : \n",
      "FGSM Attack : \n",
      "Projected Gradient Attack : \n",
      "iFGSM Attack : \n",
      "Deep Fool Attack : \n",
      "FGSM Attack : \n",
      "Projected Gradient Attack : \n",
      "iFGSM Attack : \n",
      "Deep Fool Attack : \n",
      "FGSM Attack : \n",
      "Projected Gradient Attack : \n",
      "iFGSM Attack : \n",
      "Deep Fool Attack : \n"
     ]
    }
   ],
   "source": [
    "\n",
    "fgsms = []\n",
    "pgds = []\n",
    "ifgsms=[]\n",
    "deepfools=[]\n",
    "eps = 0.3\n",
    "for b in range(1,9):\n",
    "    model = VAEClassifierModel(beta =b)\n",
    "    \n",
    "    fgsms.append(attack(model, device, test_loader, fgsm, eps)[0])\n",
    "\n",
    "    pgds.append(attack(model, device, test_loader, pgd, eps, 1e4, 50)[0])\n",
    "\n",
    "    ifgsms.append(attack(model, device, test_loader, pgd_linf, eps, 1e-2, 50)[0])\n",
    "\n",
    "    deepfools.append(attack(model, device, test_loader, pgd_l2, 1.3, eps, 50)[0])\n",
    "    \n"
   ]
  },
  {
   "cell_type": "code",
   "execution_count": 6,
   "metadata": {},
   "outputs": [
    {
     "name": "stdout",
     "output_type": "stream",
     "text": [
      "[0.9529, 0.9589, 0.956, 0.9475, 0.939, 0.9187, 0.8999, 0.8845]\n"
     ]
    }
   ],
   "source": [
    "batch_size =128\n",
    "test_loader = torch.utils.data.DataLoader(test_set, batch_size=batch_size)\n",
    "clean_accuracies = []\n",
    "for b in range(1,9):\n",
    "        model = VAEClassifierModel(beta =b)\n",
    "        acc = test_model(model, test_loader)\n",
    "        clean_accuracies.append(acc)\n",
    "print(clean_accuracies)"
   ]
  },
  {
   "cell_type": "code",
   "execution_count": 8,
   "metadata": {},
   "outputs": [
    {
     "data": {
      "image/png": "[encoded data removed]",
      "text/plain": [
       "<Figure size 432x288 with 1 Axes>"
      ]
     },
     "metadata": {
      "needs_background": "light"
     },
     "output_type": "display_data"
    }
   ],
   "source": [
    "plt.plot(fgsms, label = 'fgsm')\n",
    "plt.plot(pgds, label =\"pgd-ifgsm large step\")\n",
    "plt.plot(ifgsms, label = 'ifgsm')\n",
    "plt.plot(deepfools, label = 'deepfool L2')\n",
    "plt.legend() \n",
    "\n",
    "plt.xlabel('$Beta$', size = 'xx-large', fontweight = 'demi')\n",
    "plt.ylabel('Accuracy', size = 'x-large')\n",
    "plt.savefig('figures/vae_classifier.pdf', format='pdf', bbox_inches='tight', quality = 100)\n",
    "\n",
    "plt.show()"
   ]
  },
  {
   "cell_type": "code",
   "execution_count": null,
   "metadata": {},
   "outputs": [],
   "source": []
  }
 ],
 "metadata": {
  "kernelspec": {
   "display_name": "Python 3",
   "language": "python",
   "name": "python3"
  },
  "language_info": {
   "codemirror_mode": {
    "name": "ipython",
    "version": 3
   },
   "file_extension": ".py",
   "mimetype": "text/x-python",
   "name": "python",
   "nbconvert_exporter": "python",
   "pygments_lexer": "ipython3",
   "version": "3.7.3"
  }
 },
 "nbformat": 4,
 "nbformat_minor": 2
}
