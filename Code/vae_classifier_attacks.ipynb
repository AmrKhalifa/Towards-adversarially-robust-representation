{
 "cells": [
  {
   "cell_type": "code",
   "execution_count": 1,
   "metadata": {},
   "outputs": [],
   "source": [
    "import torch\n",
    "import torch.nn as nn\n",
    "from vae_models import VAE_CONV_NeuralModel\n",
    "from mnist_classifier import NeuralModel\n",
    "from classifier_attacks import test \n",
    "from utils import data_loader\n",
    "import torch.nn.functional as F"
   ]
  },
  {
   "cell_type": "code",
   "execution_count": 2,
   "metadata": {},
   "outputs": [],
   "source": [
    "train_set, test_set = data_loader.get_data()\n",
    "\n",
    "batch_size = 1\n",
    "\n",
    "test_loader = torch.utils.data.DataLoader(test_set, batch_size=batch_size)\n",
    "use_cuda = True\n",
    "device = torch.device(\"cuda\" if (use_cuda and torch.cuda.is_available()) else \"cpu\")"
   ]
  },
  {
   "cell_type": "code",
   "execution_count": null,
   "metadata": {},
   "outputs": [],
   "source": [
    "class VAEClassifierModel(nn.Module, beta):\n",
    "    def __init__(self):\n",
    "        super().__init__()\n",
    "\n",
    "        self.vae = VAE_CONV_NeuralModel()\n",
    "        self.vae.load_state_dict(torch.load(\"models/trained_CONV_vae_B=\"+str(beta)))\n",
    "\n",
    "        self.classification_model = NeuralModel()\n",
    "        self.classification_model.load_state_dict(torch.load(\"models/trained_model\"))\n",
    "\n",
    "    def forward(self, x):\n",
    "        after_vae = self.vae(x)\n",
    "        classification = self.classification_model(after_vae[0])\n",
    "\n",
    "        return classification\n",
    "        pass"
   ]
  }
 ],
 "metadata": {
  "kernelspec": {
   "display_name": "Python 3",
   "language": "python",
   "name": "python3"
  },
  "language_info": {
   "codemirror_mode": {
    "name": "ipython",
    "version": 3
   },
   "file_extension": ".py",
   "mimetype": "text/x-python",
   "name": "python",
   "nbconvert_exporter": "python",
   "pygments_lexer": "ipython3",
   "version": "3.7.3"
  }
 },
 "nbformat": 4,
 "nbformat_minor": 2
}
