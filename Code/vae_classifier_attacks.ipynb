{
 "cells": [
  {
   "cell_type": "code",
   "execution_count": 38,
   "metadata": {},
   "outputs": [],
   "source": [
    "import torch\n",
    "import torch.nn as nn\n",
    "from vae_models import VAE_CONV_NeuralModel\n",
    "from mnist_classifier import NeuralModel, test_model\n",
    "from vae_classifier_attacks import test_attack, fgsm_attack\n",
    "from utils import data_loader\n",
    "import torch.nn.functional as F\n",
    "import time \n",
    "import numpy as np \n",
    "import matplotlib.pyplot as plt \n",
    "import sys\n"
   ]
  },
  {
   "cell_type": "code",
   "execution_count": 39,
   "metadata": {},
   "outputs": [],
   "source": [
    "train_set, test_set = data_loader.get_data()\n",
    "\n",
    "batch_size =1\n",
    "\n",
    "test_loader = torch.utils.data.DataLoader(test_set, batch_size=batch_size)\n",
    "use_cuda = True\n",
    "device = torch.device(\"cuda\" if (use_cuda and torch.cuda.is_available()) else \"cpu\")\n",
    "BOLD    = \"\\033[;1m\"\n",
    "RED   = \"\\033[1;31m\"\n",
    "RESET = \"\\033[0;0m\""
   ]
  },
  {
   "cell_type": "code",
   "execution_count": 43,
   "metadata": {},
   "outputs": [],
   "source": [
    "epsilons = [.1, .15, .2, .25, .3]\n",
    "accuracies = []\n"
   ]
  },
  {
   "cell_type": "code",
   "execution_count": 4,
   "metadata": {},
   "outputs": [],
   "source": [
    "class VAEClassifierModel(nn.Module):\n",
    "    def __init__(self, beta):\n",
    "        super().__init__()\n",
    "        self.vae = VAE_CONV_NeuralModel()\n",
    "        self.vae.load_state_dict(torch.load(\"models/trained_CONV_vae_B=\"+str(beta)))\n",
    "\n",
    "        self.classification_model = NeuralModel()\n",
    "        self.classification_model.load_state_dict(torch.load(\"models/trained_model\"))\n",
    "\n",
    "    def forward(self, x):\n",
    "        after_vae = self.vae(x)\n",
    "        classification = self.classification_model(after_vae[0])\n",
    "\n",
    "        return classification\n",
    "        pass"
   ]
  },
  {
   "cell_type": "code",
   "execution_count": 5,
   "metadata": {},
   "outputs": [
    {
     "name": "stdout",
     "output_type": "stream",
     "text": [
      "Epsilon: 0.1\tTest Accuracy = 6083 / 10000 = 0.6083\n",
      "Epsilon: 0.1\tTest Accuracy = 5996 / 10000 = 0.5996\n",
      "Epsilon: 0.1\tTest Accuracy = 5761 / 10000 = 0.5761\n",
      "Epsilon: 0.1\tTest Accuracy = 5393 / 10000 = 0.5393\n",
      "Epsilon: 0.1\tTest Accuracy = 4932 / 10000 = 0.4932\n",
      "Epsilon: 0.1\tTest Accuracy = 4519 / 10000 = 0.4519\n",
      "Epsilon: 0.1\tTest Accuracy = 3958 / 10000 = 0.3958\n",
      "Epsilon: 0.1\tTest Accuracy = 4340 / 10000 = 0.434\n",
      "Epsilon: 0.15\tTest Accuracy = 3504 / 10000 = 0.3504\n",
      "Epsilon: 0.15\tTest Accuracy = 3379 / 10000 = 0.3379\n",
      "Epsilon: 0.15\tTest Accuracy = 3194 / 10000 = 0.3194\n",
      "Epsilon: 0.15\tTest Accuracy = 3038 / 10000 = 0.3038\n",
      "Epsilon: 0.15\tTest Accuracy = 2796 / 10000 = 0.2796\n",
      "Epsilon: 0.15\tTest Accuracy = 2419 / 10000 = 0.2419\n",
      "Epsilon: 0.15\tTest Accuracy = 2102 / 10000 = 0.2102\n",
      "Epsilon: 0.15\tTest Accuracy = 2335 / 10000 = 0.2335\n",
      "Epsilon: 0.2\tTest Accuracy = 2653 / 10000 = 0.2653\n",
      "Epsilon: 0.2\tTest Accuracy = 2527 / 10000 = 0.2527\n",
      "Epsilon: 0.2\tTest Accuracy = 2539 / 10000 = 0.2539\n",
      "Epsilon: 0.2\tTest Accuracy = 2447 / 10000 = 0.2447\n",
      "Epsilon: 0.2\tTest Accuracy = 2212 / 10000 = 0.2212\n",
      "Epsilon: 0.2\tTest Accuracy = 1847 / 10000 = 0.1847\n",
      "Epsilon: 0.2\tTest Accuracy = 1558 / 10000 = 0.1558\n",
      "Epsilon: 0.2\tTest Accuracy = 1660 / 10000 = 0.166\n",
      "Epsilon: 0.25\tTest Accuracy = 2270 / 10000 = 0.227\n",
      "Epsilon: 0.25\tTest Accuracy = 2188 / 10000 = 0.2188\n",
      "Epsilon: 0.25\tTest Accuracy = 2206 / 10000 = 0.2206\n",
      "Epsilon: 0.25\tTest Accuracy = 2169 / 10000 = 0.2169\n",
      "Epsilon: 0.25\tTest Accuracy = 1902 / 10000 = 0.1902\n",
      "Epsilon: 0.25\tTest Accuracy = 1543 / 10000 = 0.1543\n",
      "Epsilon: 0.25\tTest Accuracy = 1280 / 10000 = 0.128\n",
      "Epsilon: 0.25\tTest Accuracy = 1286 / 10000 = 0.1286\n",
      "Epsilon: 0.3\tTest Accuracy = 2018 / 10000 = 0.2018\n",
      "Epsilon: 0.3\tTest Accuracy = 1954 / 10000 = 0.1954\n",
      "Epsilon: 0.3\tTest Accuracy = 1952 / 10000 = 0.1952\n",
      "Epsilon: 0.3\tTest Accuracy = 1965 / 10000 = 0.1965\n",
      "Epsilon: 0.3\tTest Accuracy = 1699 / 10000 = 0.1699\n",
      "Epsilon: 0.3\tTest Accuracy = 1354 / 10000 = 0.1354\n",
      "Epsilon: 0.3\tTest Accuracy = 1093 / 10000 = 0.1093\n",
      "Epsilon: 0.3\tTest Accuracy = 1049 / 10000 = 0.1049\n",
      "3473.6079869270325\n"
     ]
    }
   ],
   "source": [
    "\n",
    "time_1 = time.time()\n",
    "for eps in epsilons:\n",
    "    per_epsilon_accuracies = []\n",
    "\n",
    "    for b in range(1,9):\n",
    "        model = VAEClassifierModel(beta =b)\n",
    "        acc, _ = test_attack(model, device, test_loader, epsilon=eps)\n",
    "        per_epsilon_accuracies.append(acc)\n",
    "    accuracies.append(per_epsilon_accuracies)\n",
    "time_2 = time.time()\n",
    "\n",
    "print(time_2 - time_1)"
   ]
  },
  {
   "cell_type": "code",
   "execution_count": 45,
   "metadata": {},
   "outputs": [],
   "source": [
    "# sys.stdout.write(BOLD)\n",
    "# print(\"\\n The accuracies are: \\n\")\n",
    "# sys.stdout.write(RESET)\n",
    "\n",
    "# for accuracies_per_epsilon in accuracies:\n",
    "#         sys.stdout.write(RED)\n",
    "#         print(\"*=\"*35)\n",
    "#         sys.stdout.write(RESET)\n",
    "        \n",
    "#         for i, eps in enumerate(epslions):\n",
    "#             print(accuracies[i])"
   ]
  },
  {
   "cell_type": "code",
   "execution_count": 24,
   "metadata": {},
   "outputs": [
    {
     "name": "stdout",
     "output_type": "stream",
     "text": [
      "[0.9529, 0.9589, 0.956, 0.9475, 0.939, 0.9187, 0.8999, 0.8845]\n"
     ]
    }
   ],
   "source": [
    "batch_size =512\n",
    "test_loader = torch.utils.data.DataLoader(test_set, batch_size=batch_size)\n",
    "clean_accuracies = []\n",
    "for b in range(1,9):\n",
    "        model = VAEClassifierModel(beta =b)\n",
    "        acc = test_model(model, test_loader)\n",
    "        clean_accuracies.append(acc)\n",
    "print(clean_accuracies)"
   ]
  },
  {
   "cell_type": "code",
   "execution_count": 28,
   "metadata": {},
   "outputs": [
    {
     "name": "stdout",
     "output_type": "stream",
     "text": [
      "(5, 8)\n"
     ]
    },
    {
     "data": {
      "text/plain": [
       "Text(0, 0.5, 'Acc diff')"
      ]
     },
     "execution_count": 28,
     "metadata": {},
     "output_type": "execute_result"
    },
    {
     "data": {
      "image/png": "[encoded data removed]",
      "text/plain": [
       "<Figure size 432x288 with 1 Axes>"
      ]
     },
     "metadata": {
      "needs_background": "light"
     },
     "output_type": "display_data"
    }
   ],
   "source": [
    "accuracies = np.array(accuracies)\n",
    "clean_accuracies = np.array(clean_accuracies).reshape(1,-1)\n",
    "print(accuracies.shape)\n",
    "\n",
    "accuracies_diff = clean_accuracies - accuracies\n",
    "\n",
    "for eps, per_epsilon_diff in zip(epsilons,accuracies_diff):\n",
    "    plt.plot(per_epsilon_diff, label ='$\\epsilon$ = '+str(eps))\n",
    "plt.legend( loc='upper right', bbox_to_anchor=(1.2,1))\n",
    "plt.xlabel('$B$', size = 'xx-large', fontweight = 'demi')\n",
    "plt.ylabel('Acc diff', size = 'x-large', fontweight = 'demi')"
   ]
  },
  {
   "cell_type": "code",
   "execution_count": null,
   "metadata": {},
   "outputs": [],
   "source": []
  }
 ],
 "metadata": {
  "kernelspec": {
   "display_name": "Python 3",
   "language": "python",
   "name": "python3"
  },
  "language_info": {
   "codemirror_mode": {
    "name": "ipython",
    "version": 3
   },
   "file_extension": ".py",
   "mimetype": "text/x-python",
   "name": "python",
   "nbconvert_exporter": "python",
   "pygments_lexer": "ipython3",
   "version": "3.7.3"
  }
 },
 "nbformat": 4,
 "nbformat_minor": 2
}
