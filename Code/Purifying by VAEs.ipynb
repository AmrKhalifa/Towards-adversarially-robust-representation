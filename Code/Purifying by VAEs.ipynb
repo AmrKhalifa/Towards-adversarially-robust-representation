{
 "cells": [
  {
   "cell_type": "code",
   "execution_count": 1,
   "metadata": {},
   "outputs": [],
   "source": [
    "import torch\n",
    "from utils import data_loader\n",
    "from mnist_classifier import NeuralModel\n",
    "import mnist_classifier\n",
    "import torch.nn.functional as F\n",
    "import numpy as np\n",
    "import matplotlib.pyplot as plt\n",
    "import pickle\n",
    "from vae_models import VAE_CONV_NeuralModel\n",
    "from utils.viewer import show_batch"
   ]
  },
  {
   "cell_type": "code",
   "execution_count": 2,
   "metadata": {},
   "outputs": [],
   "source": [
    "train_set, test_set = data_loader.get_data()\n",
    "use_cuda = True\n",
    "device = torch.device(\"cuda\" if (use_cuda and torch.cuda.is_available()) else \"cpu\")"
   ]
  },
  {
   "cell_type": "code",
   "execution_count": 3,
   "metadata": {},
   "outputs": [],
   "source": [
    "classification_model = NeuralModel()\n",
    "classification_model.to(device)\n",
    "classification_model.load_state_dict(torch.load(\"models/trained_model\"))\n",
    "classification_model.eval()\n",
    "\n",
    "epsilons = [0, .05, .1, .15, .2, .25, .3]\n",
    "accuracies = []\n"
   ]
  },
  {
   "cell_type": "code",
   "execution_count": 5,
   "metadata": {},
   "outputs": [],
   "source": [
    "batch_size = 512\n",
    "test_loader = torch.utils.data.DataLoader(test_set, batch_size=batch_size)\n",
    "\n",
    "clean_accuracies = []\n",
    "vae = VAE_CONV_NeuralModel()\n",
    "for Beta in range (1,11):\n",
    "    vae.load_state_dict(torch.load(\"models/trained_CONV_vae_B=\"+str(Beta)))\n",
    "    vae.to(device)\n",
    "\n",
    "    acc_sum = 0\n",
    "    for batch in test_loader:\n",
    "\n",
    "        batch_images, batch_labels = batch\n",
    "        recs, _, _ = vae(batch_images.to(device))\n",
    "\n",
    "        reconstructed_batch = (recs, batch_labels.to(device))\n",
    "        acc = mnist_classifier.test_model(classification_model, reconstructed_batch)\n",
    "        acc_sum += acc\n",
    "\n",
    "    clean_accuracies.append(acc_sum)\n"
   ]
  },
  {
   "cell_type": "code",
   "execution_count": 6,
   "metadata": {},
   "outputs": [],
   "source": [
    "for eps in epsilons: \n",
    "    path = 'models/adversarial_examples/adversarial_examples_epsilon='+str(eps)+'_.pkl'\n",
    "    per_epsilon_accuracies = []\n",
    "    with open(path, 'rb') as f:\n",
    "        examples_set = pickle.load(f)\n",
    "        \n",
    "        true_labels = []\n",
    "        adv_labels = []\n",
    "        adv_examples = []\n",
    "\n",
    "        for example in examples_set:\n",
    "            true_label, adv_label, adv_example = example\n",
    "\n",
    "            true_labels.append(true_label)\n",
    "            adv_labels.append(adv_label)\n",
    "            adv_examples.append(adv_example)\n",
    "\n",
    "        true_labels = torch.Tensor(true_labels).long().to(device)\n",
    "        adv_examples = torch.Tensor(adv_examples)\n",
    "        b_size, w, h = adv_examples.shape\n",
    "        adv_examples = adv_examples.reshape(b_size, 1, w, h)\n",
    "        adv_examples = adv_examples.to(device)\n",
    "\n",
    "        vae = VAE_CONV_NeuralModel()\n",
    "        for Beta in range (1,11):\n",
    "            vae.load_state_dict(torch.load(\"models/trained_CONV_vae_B=\"+str(Beta)))\n",
    "            vae.to(device)\n",
    "\n",
    "            recs, _, _ = vae(adv_examples)\n",
    "            recs = recs.reshape(-1, 1, 28, 28)\n",
    "            reconstructed_data = (recs, true_labels)\n",
    "\n",
    "            acc = mnist_classifier.test_model(classification_model, reconstructed_data)\n",
    "\n",
    "            per_epsilon_accuracies.append(acc)\n",
    "        \n",
    "        accuracies.append(per_epsilon_accuracies)\n",
    "        "
   ]
  },
  {
   "cell_type": "code",
   "execution_count": 9,
   "metadata": {},
   "outputs": [
    {
     "name": "stdout",
     "output_type": "stream",
     "text": [
      "(7, 10)\n"
     ]
    },
    {
     "data": {
      "text/plain": [
       "<matplotlib.legend.Legend at 0x7ff68c331ba8>"
      ]
     },
     "execution_count": 9,
     "metadata": {},
     "output_type": "execute_result"
    },
    {
     "data": {
      "image/png": "[encoded data removed]",
      "text/plain": [
       "<Figure size 432x288 with 1 Axes>"
      ]
     },
     "metadata": {
      "needs_background": "light"
     },
     "output_type": "display_data"
    }
   ],
   "source": [
    "accuracies = np.array(accuracies)\n",
    "clean_accuracies = np.array(clean_accuracies).reshape(1,-1)\n",
    "print(accuracies.shape)\n",
    "\n",
    "accuracies_diff = clean_accuracies - accuracies\n",
    "\n",
    "for eps, per_epsilon_diff in zip(epsilons,accuracies_diff):\n",
    "    plt.plot(per_epsilon_diff, label =str(eps))\n",
    "plt.legend()"
   ]
  },
  {
   "cell_type": "code",
   "execution_count": null,
   "metadata": {},
   "outputs": [],
   "source": []
  }
 ],
 "metadata": {
  "kernelspec": {
   "display_name": "Python 3",
   "language": "python",
   "name": "python3"
  },
  "language_info": {
   "codemirror_mode": {
    "name": "ipython",
    "version": 3
   },
   "file_extension": ".py",
   "mimetype": "text/x-python",
   "name": "python",
   "nbconvert_exporter": "python",
   "pygments_lexer": "ipython3",
   "version": "3.7.3"
  }
 },
 "nbformat": 4,
 "nbformat_minor": 2
}
